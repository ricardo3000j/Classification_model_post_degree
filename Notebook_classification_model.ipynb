{
  "cells": [
    {
      "cell_type": "markdown",
      "metadata": {
        "id": "EzSp3QlbnoRY"
      },
      "source": [
        "![Logo](https://posgrado.uni.edu.ni/wp-content/uploads/2017/02/logo_opt-2.png)"
      ]
    },
    {
      "cell_type": "markdown",
      "metadata": {
        "id": "H2PnfPi5At_T"
      },
      "source": [
        "~~~\n",
        "Ricardo Jarquin\n",
        "~~~"
      ]
    },
    {
      "cell_type": "markdown",
      "metadata": {
        "id": "sctdZqx0nwpf"
      },
      "source": [
        "[UNI-DEPEC](https://posgrado.uni.edu.ni)"
      ]
    },
    {
      "cell_type": "markdown",
      "metadata": {
        "id": "o2SmePwcn289"
      },
      "source": [
        "# **Modelo de clasificacion para calidad de Vino**\n"
      ]
    },
    {
      "cell_type": "markdown",
      "metadata": {
        "id": "dT2-msbVrSQk"
      },
      "source": [
        "## **Librerías**"
      ]
    },
    {
      "cell_type": "markdown",
      "metadata": {
        "id": "Wuf4SLs_A7DY"
      },
      "source": [
        "###**Instalando librerías necesarias**"
      ]
    },
    {
      "cell_type": "code",
      "execution_count": 4,
      "metadata": {
        "id": "kFX7M3CMA_Ib"
      },
      "outputs": [
        {
          "name": "stdout",
          "output_type": "stream",
          "text": [
            "Collecting pycaret\n",
            "  Using cached pycaret-2.3.10-py3-none-any.whl (320 kB)\n",
            "Collecting kmodes>=0.10.1\n",
            "  Using cached kmodes-0.12.1-py2.py3-none-any.whl (20 kB)\n",
            "Collecting lightgbm>=2.3.1\n",
            "  Using cached lightgbm-3.3.2-py3-none-win_amd64.whl (1.0 MB)\n",
            "Collecting wordcloud\n",
            "  Using cached wordcloud-1.8.1.tar.gz (220 kB)\n",
            "  Preparing metadata (setup.py): started\n",
            "  Preparing metadata (setup.py): finished with status 'done'\n",
            "Collecting mlxtend>=0.17.0\n",
            "  Using cached mlxtend-0.19.0-py2.py3-none-any.whl (1.3 MB)\n",
            "Collecting pyyaml<6.0.0\n",
            "  Using cached PyYAML-5.4.1-cp39-cp39-win_amd64.whl (213 kB)\n",
            "Collecting plotly>=4.4.1\n",
            "  Using cached plotly-5.8.0-py2.py3-none-any.whl (15.2 MB)\n",
            "Collecting spacy<2.4.0\n",
            "  Downloading spacy-2.3.7-cp39-cp39-win_amd64.whl (9.4 MB)\n",
            "     ---------------------------------------- 9.4/9.4 MB 7.9 MB/s eta 0:00:00\n",
            "Requirement already satisfied: pandas in c:\\users\\ricar\\appdata\\local\\packages\\pythonsoftwarefoundation.python.3.9_qbz5n2kfra8p0\\localcache\\local-packages\\python39\\site-packages (from pycaret) (1.4.2)\n",
            "Requirement already satisfied: matplotlib in c:\\users\\ricar\\appdata\\local\\packages\\pythonsoftwarefoundation.python.3.9_qbz5n2kfra8p0\\localcache\\local-packages\\python39\\site-packages (from pycaret) (3.5.2)\n",
            "Collecting scipy<=1.5.4\n",
            "  Downloading scipy-1.5.4-cp39-cp39-win_amd64.whl (31.4 MB)\n",
            "     ---------------------------------------- 31.4/31.4 MB 9.2 MB/s eta 0:00:00\n",
            "Collecting Boruta\n",
            "  Using cached Boruta-0.3-py3-none-any.whl (56 kB)\n",
            "Collecting numba<0.55\n",
            "  Using cached numba-0.54.1-cp39-cp39-win_amd64.whl (2.3 MB)\n",
            "Collecting cufflinks>=0.17.0\n",
            "  Using cached cufflinks-0.17.3.tar.gz (81 kB)\n",
            "  Preparing metadata (setup.py): started\n",
            "  Preparing metadata (setup.py): finished with status 'done'\n",
            "Collecting gensim<4.0.0\n",
            "  Using cached gensim-3.8.3.tar.gz (23.4 MB)\n",
            "  Preparing metadata (setup.py): started\n",
            "  Preparing metadata (setup.py): finished with status 'done'\n",
            "Requirement already satisfied: nltk in c:\\users\\ricar\\appdata\\local\\packages\\pythonsoftwarefoundation.python.3.9_qbz5n2kfra8p0\\localcache\\local-packages\\python39\\site-packages (from pycaret) (3.7)\n",
            "Requirement already satisfied: seaborn in c:\\users\\ricar\\appdata\\local\\packages\\pythonsoftwarefoundation.python.3.9_qbz5n2kfra8p0\\localcache\\local-packages\\python39\\site-packages (from pycaret) (0.11.2)\n",
            "Collecting scikit-plot\n",
            "  Using cached scikit_plot-0.3.7-py3-none-any.whl (33 kB)\n",
            "Requirement already satisfied: pandas-profiling>=2.8.0 in c:\\users\\ricar\\appdata\\local\\packages\\pythonsoftwarefoundation.python.3.9_qbz5n2kfra8p0\\localcache\\local-packages\\python39\\site-packages (from pycaret) (3.2.0)\n",
            "Collecting textblob\n",
            "  Using cached textblob-0.17.1-py2.py3-none-any.whl (636 kB)\n",
            "Collecting ipywidgets\n",
            "  Using cached ipywidgets-7.7.0-py2.py3-none-any.whl (123 kB)\n",
            "Collecting pyod\n",
            "  Using cached pyod-1.0.0.tar.gz (118 kB)\n",
            "  Preparing metadata (setup.py): started\n",
            "  Preparing metadata (setup.py): finished with status 'done'\n",
            "Collecting mlflow\n",
            "  Using cached mlflow-1.25.1-py3-none-any.whl (16.8 MB)\n",
            "Collecting umap-learn\n",
            "  Using cached umap-learn-0.5.3.tar.gz (88 kB)\n",
            "  Preparing metadata (setup.py): started\n",
            "  Preparing metadata (setup.py): finished with status 'done'\n",
            "Collecting imbalanced-learn==0.7.0\n",
            "  Using cached imbalanced_learn-0.7.0-py3-none-any.whl (167 kB)\n",
            "Requirement already satisfied: joblib in c:\\users\\ricar\\appdata\\local\\packages\\pythonsoftwarefoundation.python.3.9_qbz5n2kfra8p0\\localcache\\local-packages\\python39\\site-packages (from pycaret) (1.1.0)\n",
            "Collecting yellowbrick>=1.0.1\n",
            "  Using cached yellowbrick-1.4-py3-none-any.whl (274 kB)\n",
            "Collecting scikit-learn==0.23.2\n",
            "  Using cached scikit-learn-0.23.2.tar.gz (7.2 MB)\n",
            "  Installing build dependencies: started\n",
            "  Installing build dependencies: finished with status 'error'\n",
            "Note: you may need to restart the kernel to use updated packages.\n"
          ]
        },
        {
          "name": "stderr",
          "output_type": "stream",
          "text": [
            "  error: subprocess-exited-with-error\n",
            "  \n",
            "  × pip subprocess to install build dependencies did not run successfully.\n",
            "  │ exit code: 1\n",
            "  ╰─> [316 lines of output]\n",
            "      Ignoring numpy: markers 'python_version == \"3.6\" and platform_system != \"AIX\" and platform_python_implementation == \"CPython\"' don't match your environment\n",
            "      Ignoring numpy: markers 'python_version == \"3.6\" and platform_system != \"AIX\" and platform_python_implementation != \"CPython\"' don't match your environment\n",
            "      Ignoring numpy: markers 'python_version == \"3.7\" and platform_system != \"AIX\"' don't match your environment\n",
            "      Ignoring numpy: markers 'python_version == \"3.6\" and platform_system == \"AIX\"' don't match your environment\n",
            "      Ignoring numpy: markers 'python_version == \"3.7\" and platform_system == \"AIX\"' don't match your environment\n",
            "      Ignoring numpy: markers 'python_version >= \"3.8\" and platform_system == \"AIX\"' don't match your environment\n",
            "      Collecting setuptools\n",
            "        Using cached setuptools-62.2.0-py3-none-any.whl (1.1 MB)\n",
            "      Collecting wheel\n",
            "        Using cached wheel-0.37.1-py2.py3-none-any.whl (35 kB)\n",
            "      Collecting Cython>=0.28.5\n",
            "        Using cached Cython-0.29.28-py2.py3-none-any.whl (983 kB)\n",
            "      Collecting numpy==1.17.3\n",
            "        Using cached numpy-1.17.3.zip (6.4 MB)\n",
            "        Preparing metadata (setup.py): started\n",
            "        Preparing metadata (setup.py): finished with status 'done'\n",
            "      Collecting scipy>=0.19.1\n",
            "        Using cached scipy-1.8.0-cp39-cp39-win_amd64.whl (36.9 MB)\n",
            "      Using legacy 'setup.py install' for numpy, since package 'wheel' is not installed.\n",
            "      Installing collected packages: wheel, setuptools, numpy, Cython, scipy\n",
            "        Running setup.py install for numpy: started\n",
            "        Running setup.py install for numpy: finished with status 'error'\n",
            "        error: subprocess-exited-with-error\n",
            "      \n",
            "        Ã— Running setup.py install for numpy did not run successfully.\n",
            "        â”‚ exit code: 1\n",
            "        â•°â”€> [277 lines of output]\n",
            "            Running from numpy source directory.\n",
            "      \n",
            "            Note: if you need reliable uninstall behavior, then install\n",
            "            with pip instead of using `setup.py install`:\n",
            "      \n",
            "              - `pip install .`       (from a git repo or downloaded source\n",
            "                                       release)\n",
            "              - `pip install numpy`   (last NumPy release on PyPi)\n",
            "      \n",
            "      \n",
            "            blas_opt_info:\n",
            "            blas_mkl_info:\n",
            "            No module named 'numpy.distutils._msvccompiler' in numpy.distutils; trying from distutils\n",
            "            customize MSVCCompiler\n",
            "              libraries mkl_rt not found in ['C:\\\\Program Files\\\\WindowsApps\\\\PythonSoftwareFoundation.Python.3.9_3.9.3312.0_x64__qbz5n2kfra8p0\\\\lib', 'C:\\\\', 'C:\\\\Program Files\\\\WindowsApps\\\\PythonSoftwareFoundation.Python.3.9_3.9.3312.0_x64__qbz5n2kfra8p0\\\\libs']\n",
            "              NOT AVAILABLE\n",
            "      \n",
            "            blis_info:\n",
            "            No module named 'numpy.distutils._msvccompiler' in numpy.distutils; trying from distutils\n",
            "            customize MSVCCompiler\n",
            "              libraries blis not found in ['C:\\\\Program Files\\\\WindowsApps\\\\PythonSoftwareFoundation.Python.3.9_3.9.3312.0_x64__qbz5n2kfra8p0\\\\lib', 'C:\\\\', 'C:\\\\Program Files\\\\WindowsApps\\\\PythonSoftwareFoundation.Python.3.9_3.9.3312.0_x64__qbz5n2kfra8p0\\\\libs']\n",
            "              NOT AVAILABLE\n",
            "      \n",
            "            openblas_info:\n",
            "            No module named 'numpy.distutils._msvccompiler' in numpy.distutils; trying from distutils\n",
            "            customize MSVCCompiler\n",
            "            No module named 'numpy.distutils._msvccompiler' in numpy.distutils; trying from distutils\n",
            "            customize MSVCCompiler\n",
            "              libraries openblas not found in ['C:\\\\Program Files\\\\WindowsApps\\\\PythonSoftwareFoundation.Python.3.9_3.9.3312.0_x64__qbz5n2kfra8p0\\\\lib', 'C:\\\\', 'C:\\\\Program Files\\\\WindowsApps\\\\PythonSoftwareFoundation.Python.3.9_3.9.3312.0_x64__qbz5n2kfra8p0\\\\libs']\n",
            "            get_default_fcompiler: matching types: '['gnu', 'intelv', 'absoft', 'compaqv', 'intelev', 'gnu95', 'g95', 'intelvem', 'intelem', 'flang']'\n",
            "            customize GnuFCompiler\n",
            "            Could not locate executable g77\n",
            "            Could not locate executable f77\n",
            "            customize IntelVisualFCompiler\n",
            "            Could not locate executable ifort\n",
            "            Could not locate executable ifl\n",
            "            customize AbsoftFCompiler\n",
            "            Could not locate executable f90\n",
            "            customize CompaqVisualFCompiler\n",
            "            Could not locate executable DF\n",
            "            customize IntelItaniumVisualFCompiler\n",
            "            Could not locate executable efl\n",
            "            customize Gnu95FCompiler\n",
            "            Could not locate executable gfortran\n",
            "            Could not locate executable f95\n",
            "            customize G95FCompiler\n",
            "            Could not locate executable g95\n",
            "            customize IntelEM64VisualFCompiler\n",
            "            customize IntelEM64TFCompiler\n",
            "            Could not locate executable efort\n",
            "            Could not locate executable efc\n",
            "            customize PGroupFlangCompiler\n",
            "            Could not locate executable flang\n",
            "            don't know how to compile Fortran code on platform 'nt'\n",
            "              NOT AVAILABLE\n",
            "      \n",
            "            atlas_3_10_blas_threads_info:\n",
            "            Setting PTATLAS=ATLAS\n",
            "            No module named 'numpy.distutils._msvccompiler' in numpy.distutils; trying from distutils\n",
            "            customize MSVCCompiler\n",
            "              libraries tatlas not found in ['C:\\\\Program Files\\\\WindowsApps\\\\PythonSoftwareFoundation.Python.3.9_3.9.3312.0_x64__qbz5n2kfra8p0\\\\lib', 'C:\\\\', 'C:\\\\Program Files\\\\WindowsApps\\\\PythonSoftwareFoundation.Python.3.9_3.9.3312.0_x64__qbz5n2kfra8p0\\\\libs']\n",
            "              NOT AVAILABLE\n",
            "      \n",
            "            atlas_3_10_blas_info:\n",
            "            No module named 'numpy.distutils._msvccompiler' in numpy.distutils; trying from distutils\n",
            "            customize MSVCCompiler\n",
            "              libraries satlas not found in ['C:\\\\Program Files\\\\WindowsApps\\\\PythonSoftwareFoundation.Python.3.9_3.9.3312.0_x64__qbz5n2kfra8p0\\\\lib', 'C:\\\\', 'C:\\\\Program Files\\\\WindowsApps\\\\PythonSoftwareFoundation.Python.3.9_3.9.3312.0_x64__qbz5n2kfra8p0\\\\libs']\n",
            "              NOT AVAILABLE\n",
            "      \n",
            "            atlas_blas_threads_info:\n",
            "            Setting PTATLAS=ATLAS\n",
            "            No module named 'numpy.distutils._msvccompiler' in numpy.distutils; trying from distutils\n",
            "            customize MSVCCompiler\n",
            "              libraries ptf77blas,ptcblas,atlas not found in ['C:\\\\Program Files\\\\WindowsApps\\\\PythonSoftwareFoundation.Python.3.9_3.9.3312.0_x64__qbz5n2kfra8p0\\\\lib', 'C:\\\\', 'C:\\\\Program Files\\\\WindowsApps\\\\PythonSoftwareFoundation.Python.3.9_3.9.3312.0_x64__qbz5n2kfra8p0\\\\libs']\n",
            "              NOT AVAILABLE\n",
            "      \n",
            "            atlas_blas_info:\n",
            "            No module named 'numpy.distutils._msvccompiler' in numpy.distutils; trying from distutils\n",
            "            customize MSVCCompiler\n",
            "              libraries f77blas,cblas,atlas not found in ['C:\\\\Program Files\\\\WindowsApps\\\\PythonSoftwareFoundation.Python.3.9_3.9.3312.0_x64__qbz5n2kfra8p0\\\\lib', 'C:\\\\', 'C:\\\\Program Files\\\\WindowsApps\\\\PythonSoftwareFoundation.Python.3.9_3.9.3312.0_x64__qbz5n2kfra8p0\\\\libs']\n",
            "              NOT AVAILABLE\n",
            "      \n",
            "            accelerate_info:\n",
            "              NOT AVAILABLE\n",
            "      \n",
            "            C:\\Users\\ricar\\AppData\\Local\\Temp\\pip-install-uu02erqa\\numpy_f830e2e333954030ad0229a402b65ce1\\numpy\\distutils\\system_info.py:690: UserWarning:\n",
            "                Optimized (vendor) Blas libraries are not found.\n",
            "                Falls back to netlib Blas library which has worse performance.\n",
            "                A better performance should be easily gained by switching\n",
            "                Blas library.\n",
            "              self.calc_info()\n",
            "            blas_info:\n",
            "            No module named 'numpy.distutils._msvccompiler' in numpy.distutils; trying from distutils\n",
            "            customize MSVCCompiler\n",
            "              libraries blas not found in ['C:\\\\Program Files\\\\WindowsApps\\\\PythonSoftwareFoundation.Python.3.9_3.9.3312.0_x64__qbz5n2kfra8p0\\\\lib', 'C:\\\\', 'C:\\\\Program Files\\\\WindowsApps\\\\PythonSoftwareFoundation.Python.3.9_3.9.3312.0_x64__qbz5n2kfra8p0\\\\libs']\n",
            "              NOT AVAILABLE\n",
            "      \n",
            "            C:\\Users\\ricar\\AppData\\Local\\Temp\\pip-install-uu02erqa\\numpy_f830e2e333954030ad0229a402b65ce1\\numpy\\distutils\\system_info.py:690: UserWarning:\n",
            "                Blas (http://www.netlib.org/blas/) libraries not found.\n",
            "                Directories to search for the libraries can be specified in the\n",
            "                numpy/distutils/site.cfg file (section [blas]) or by setting\n",
            "                the BLAS environment variable.\n",
            "              self.calc_info()\n",
            "            blas_src_info:\n",
            "              NOT AVAILABLE\n",
            "      \n",
            "            C:\\Users\\ricar\\AppData\\Local\\Temp\\pip-install-uu02erqa\\numpy_f830e2e333954030ad0229a402b65ce1\\numpy\\distutils\\system_info.py:690: UserWarning:\n",
            "                Blas (http://www.netlib.org/blas/) sources not found.\n",
            "                Directories to search for the sources can be specified in the\n",
            "                numpy/distutils/site.cfg file (section [blas_src]) or by setting\n",
            "                the BLAS_SRC environment variable.\n",
            "              self.calc_info()\n",
            "              NOT AVAILABLE\n",
            "      \n",
            "            'svnversion' is not recognized as an internal or external command,\n",
            "            operable program or batch file.\n",
            "            non-existing path in 'numpy\\\\distutils': 'site.cfg'\n",
            "            lapack_opt_info:\n",
            "            lapack_mkl_info:\n",
            "            No module named 'numpy.distutils._msvccompiler' in numpy.distutils; trying from distutils\n",
            "            customize MSVCCompiler\n",
            "              libraries mkl_rt not found in ['C:\\\\Program Files\\\\WindowsApps\\\\PythonSoftwareFoundation.Python.3.9_3.9.3312.0_x64__qbz5n2kfra8p0\\\\lib', 'C:\\\\', 'C:\\\\Program Files\\\\WindowsApps\\\\PythonSoftwareFoundation.Python.3.9_3.9.3312.0_x64__qbz5n2kfra8p0\\\\libs']\n",
            "              NOT AVAILABLE\n",
            "      \n",
            "            openblas_lapack_info:\n",
            "            No module named 'numpy.distutils._msvccompiler' in numpy.distutils; trying from distutils\n",
            "            customize MSVCCompiler\n",
            "            No module named 'numpy.distutils._msvccompiler' in numpy.distutils; trying from distutils\n",
            "            customize MSVCCompiler\n",
            "              libraries openblas not found in ['C:\\\\Program Files\\\\WindowsApps\\\\PythonSoftwareFoundation.Python.3.9_3.9.3312.0_x64__qbz5n2kfra8p0\\\\lib', 'C:\\\\', 'C:\\\\Program Files\\\\WindowsApps\\\\PythonSoftwareFoundation.Python.3.9_3.9.3312.0_x64__qbz5n2kfra8p0\\\\libs']\n",
            "              NOT AVAILABLE\n",
            "      \n",
            "            openblas_clapack_info:\n",
            "            No module named 'numpy.distutils._msvccompiler' in numpy.distutils; trying from distutils\n",
            "            customize MSVCCompiler\n",
            "            No module named 'numpy.distutils._msvccompiler' in numpy.distutils; trying from distutils\n",
            "            customize MSVCCompiler\n",
            "              libraries openblas,lapack not found in ['C:\\\\Program Files\\\\WindowsApps\\\\PythonSoftwareFoundation.Python.3.9_3.9.3312.0_x64__qbz5n2kfra8p0\\\\lib', 'C:\\\\', 'C:\\\\Program Files\\\\WindowsApps\\\\PythonSoftwareFoundation.Python.3.9_3.9.3312.0_x64__qbz5n2kfra8p0\\\\libs']\n",
            "              NOT AVAILABLE\n",
            "      \n",
            "            flame_info:\n",
            "            No module named 'numpy.distutils._msvccompiler' in numpy.distutils; trying from distutils\n",
            "            customize MSVCCompiler\n",
            "              libraries flame not found in ['C:\\\\Program Files\\\\WindowsApps\\\\PythonSoftwareFoundation.Python.3.9_3.9.3312.0_x64__qbz5n2kfra8p0\\\\lib', 'C:\\\\', 'C:\\\\Program Files\\\\WindowsApps\\\\PythonSoftwareFoundation.Python.3.9_3.9.3312.0_x64__qbz5n2kfra8p0\\\\libs']\n",
            "              NOT AVAILABLE\n",
            "      \n",
            "            atlas_3_10_threads_info:\n",
            "            Setting PTATLAS=ATLAS\n",
            "            No module named 'numpy.distutils._msvccompiler' in numpy.distutils; trying from distutils\n",
            "            customize MSVCCompiler\n",
            "              libraries lapack_atlas not found in C:\\Program Files\\WindowsApps\\PythonSoftwareFoundation.Python.3.9_3.9.3312.0_x64__qbz5n2kfra8p0\\lib\n",
            "            No module named 'numpy.distutils._msvccompiler' in numpy.distutils; trying from distutils\n",
            "            customize MSVCCompiler\n",
            "              libraries tatlas,tatlas not found in C:\\Program Files\\WindowsApps\\PythonSoftwareFoundation.Python.3.9_3.9.3312.0_x64__qbz5n2kfra8p0\\lib\n",
            "            No module named 'numpy.distutils._msvccompiler' in numpy.distutils; trying from distutils\n",
            "            customize MSVCCompiler\n",
            "              libraries lapack_atlas not found in C:\\\n",
            "            No module named 'numpy.distutils._msvccompiler' in numpy.distutils; trying from distutils\n",
            "            customize MSVCCompiler\n",
            "              libraries tatlas,tatlas not found in C:\\\n",
            "            No module named 'numpy.distutils._msvccompiler' in numpy.distutils; trying from distutils\n",
            "            customize MSVCCompiler\n",
            "              libraries lapack_atlas not found in C:\\Program Files\\WindowsApps\\PythonSoftwareFoundation.Python.3.9_3.9.3312.0_x64__qbz5n2kfra8p0\\libs\n",
            "            No module named 'numpy.distutils._msvccompiler' in numpy.distutils; trying from distutils\n",
            "            customize MSVCCompiler\n",
            "              libraries tatlas,tatlas not found in C:\\Program Files\\WindowsApps\\PythonSoftwareFoundation.Python.3.9_3.9.3312.0_x64__qbz5n2kfra8p0\\libs\n",
            "            <class 'numpy.distutils.system_info.atlas_3_10_threads_info'>\n",
            "              NOT AVAILABLE\n",
            "      \n",
            "            atlas_3_10_info:\n",
            "            No module named 'numpy.distutils._msvccompiler' in numpy.distutils; trying from distutils\n",
            "            customize MSVCCompiler\n",
            "              libraries lapack_atlas not found in C:\\Program Files\\WindowsApps\\PythonSoftwareFoundation.Python.3.9_3.9.3312.0_x64__qbz5n2kfra8p0\\lib\n",
            "            No module named 'numpy.distutils._msvccompiler' in numpy.distutils; trying from distutils\n",
            "            customize MSVCCompiler\n",
            "              libraries satlas,satlas not found in C:\\Program Files\\WindowsApps\\PythonSoftwareFoundation.Python.3.9_3.9.3312.0_x64__qbz5n2kfra8p0\\lib\n",
            "            No module named 'numpy.distutils._msvccompiler' in numpy.distutils; trying from distutils\n",
            "            customize MSVCCompiler\n",
            "              libraries lapack_atlas not found in C:\\\n",
            "            No module named 'numpy.distutils._msvccompiler' in numpy.distutils; trying from distutils\n",
            "            customize MSVCCompiler\n",
            "              libraries satlas,satlas not found in C:\\\n",
            "            No module named 'numpy.distutils._msvccompiler' in numpy.distutils; trying from distutils\n",
            "            customize MSVCCompiler\n",
            "              libraries lapack_atlas not found in C:\\Program Files\\WindowsApps\\PythonSoftwareFoundation.Python.3.9_3.9.3312.0_x64__qbz5n2kfra8p0\\libs\n",
            "            No module named 'numpy.distutils._msvccompiler' in numpy.distutils; trying from distutils\n",
            "            customize MSVCCompiler\n",
            "              libraries satlas,satlas not found in C:\\Program Files\\WindowsApps\\PythonSoftwareFoundation.Python.3.9_3.9.3312.0_x64__qbz5n2kfra8p0\\libs\n",
            "            <class 'numpy.distutils.system_info.atlas_3_10_info'>\n",
            "              NOT AVAILABLE\n",
            "      \n",
            "            atlas_threads_info:\n",
            "            Setting PTATLAS=ATLAS\n",
            "            No module named 'numpy.distutils._msvccompiler' in numpy.distutils; trying from distutils\n",
            "            customize MSVCCompiler\n",
            "              libraries lapack_atlas not found in C:\\Program Files\\WindowsApps\\PythonSoftwareFoundation.Python.3.9_3.9.3312.0_x64__qbz5n2kfra8p0\\lib\n",
            "            No module named 'numpy.distutils._msvccompiler' in numpy.distutils; trying from distutils\n",
            "            customize MSVCCompiler\n",
            "              libraries ptf77blas,ptcblas,atlas not found in C:\\Program Files\\WindowsApps\\PythonSoftwareFoundation.Python.3.9_3.9.3312.0_x64__qbz5n2kfra8p0\\lib\n",
            "            No module named 'numpy.distutils._msvccompiler' in numpy.distutils; trying from distutils\n",
            "            customize MSVCCompiler\n",
            "              libraries lapack_atlas not found in C:\\\n",
            "            No module named 'numpy.distutils._msvccompiler' in numpy.distutils; trying from distutils\n",
            "            customize MSVCCompiler\n",
            "              libraries ptf77blas,ptcblas,atlas not found in C:\\\n",
            "            No module named 'numpy.distutils._msvccompiler' in numpy.distutils; trying from distutils\n",
            "            customize MSVCCompiler\n",
            "              libraries lapack_atlas not found in C:\\Program Files\\WindowsApps\\PythonSoftwareFoundation.Python.3.9_3.9.3312.0_x64__qbz5n2kfra8p0\\libs\n",
            "            No module named 'numpy.distutils._msvccompiler' in numpy.distutils; trying from distutils\n",
            "            customize MSVCCompiler\n",
            "              libraries ptf77blas,ptcblas,atlas not found in C:\\Program Files\\WindowsApps\\PythonSoftwareFoundation.Python.3.9_3.9.3312.0_x64__qbz5n2kfra8p0\\libs\n",
            "            <class 'numpy.distutils.system_info.atlas_threads_info'>\n",
            "              NOT AVAILABLE\n",
            "      \n",
            "            atlas_info:\n",
            "            No module named 'numpy.distutils._msvccompiler' in numpy.distutils; trying from distutils\n",
            "            customize MSVCCompiler\n",
            "              libraries lapack_atlas not found in C:\\Program Files\\WindowsApps\\PythonSoftwareFoundation.Python.3.9_3.9.3312.0_x64__qbz5n2kfra8p0\\lib\n",
            "            No module named 'numpy.distutils._msvccompiler' in numpy.distutils; trying from distutils\n",
            "            customize MSVCCompiler\n",
            "              libraries f77blas,cblas,atlas not found in C:\\Program Files\\WindowsApps\\PythonSoftwareFoundation.Python.3.9_3.9.3312.0_x64__qbz5n2kfra8p0\\lib\n",
            "            No module named 'numpy.distutils._msvccompiler' in numpy.distutils; trying from distutils\n",
            "            customize MSVCCompiler\n",
            "              libraries lapack_atlas not found in C:\\\n",
            "            No module named 'numpy.distutils._msvccompiler' in numpy.distutils; trying from distutils\n",
            "            customize MSVCCompiler\n",
            "              libraries f77blas,cblas,atlas not found in C:\\\n",
            "            No module named 'numpy.distutils._msvccompiler' in numpy.distutils; trying from distutils\n",
            "            customize MSVCCompiler\n",
            "              libraries lapack_atlas not found in C:\\Program Files\\WindowsApps\\PythonSoftwareFoundation.Python.3.9_3.9.3312.0_x64__qbz5n2kfra8p0\\libs\n",
            "            No module named 'numpy.distutils._msvccompiler' in numpy.distutils; trying from distutils\n",
            "            customize MSVCCompiler\n",
            "              libraries f77blas,cblas,atlas not found in C:\\Program Files\\WindowsApps\\PythonSoftwareFoundation.Python.3.9_3.9.3312.0_x64__qbz5n2kfra8p0\\libs\n",
            "            <class 'numpy.distutils.system_info.atlas_info'>\n",
            "              NOT AVAILABLE\n",
            "      \n",
            "            lapack_info:\n",
            "            No module named 'numpy.distutils._msvccompiler' in numpy.distutils; trying from distutils\n",
            "            customize MSVCCompiler\n",
            "              libraries lapack not found in ['C:\\\\Program Files\\\\WindowsApps\\\\PythonSoftwareFoundation.Python.3.9_3.9.3312.0_x64__qbz5n2kfra8p0\\\\lib', 'C:\\\\', 'C:\\\\Program Files\\\\WindowsApps\\\\PythonSoftwareFoundation.Python.3.9_3.9.3312.0_x64__qbz5n2kfra8p0\\\\libs']\n",
            "              NOT AVAILABLE\n",
            "      \n",
            "            C:\\Users\\ricar\\AppData\\Local\\Temp\\pip-install-uu02erqa\\numpy_f830e2e333954030ad0229a402b65ce1\\numpy\\distutils\\system_info.py:1712: UserWarning:\n",
            "                Lapack (http://www.netlib.org/lapack/) libraries not found.\n",
            "                Directories to search for the libraries can be specified in the\n",
            "                numpy/distutils/site.cfg file (section [lapack]) or by setting\n",
            "                the LAPACK environment variable.\n",
            "              if getattr(self, '_calc_info_{}'.format(lapack))():\n",
            "            lapack_src_info:\n",
            "              NOT AVAILABLE\n",
            "      \n",
            "            C:\\Users\\ricar\\AppData\\Local\\Temp\\pip-install-uu02erqa\\numpy_f830e2e333954030ad0229a402b65ce1\\numpy\\distutils\\system_info.py:1712: UserWarning:\n",
            "                Lapack (http://www.netlib.org/lapack/) sources not found.\n",
            "                Directories to search for the sources can be specified in the\n",
            "                numpy/distutils/site.cfg file (section [lapack_src]) or by setting\n",
            "                the LAPACK_SRC environment variable.\n",
            "              if getattr(self, '_calc_info_{}'.format(lapack))():\n",
            "              NOT AVAILABLE\n",
            "      \n",
            "            C:\\Program Files\\WindowsApps\\PythonSoftwareFoundation.Python.3.9_3.9.3312.0_x64__qbz5n2kfra8p0\\lib\\distutils\\dist.py:274: UserWarning: Unknown distribution option: 'define_macros'\n",
            "              warnings.warn(msg)\n",
            "            running install\n",
            "            running build\n",
            "            running config_cc\n",
            "            unifing config_cc, config, build_clib, build_ext, build commands --compiler options\n",
            "            running config_fc\n",
            "            unifing config_fc, config, build_clib, build_ext, build commands --fcompiler options\n",
            "            running build_src\n",
            "            build_src\n",
            "            building py_modules sources\n",
            "            creating build\n",
            "            creating build\\src.win-amd64-3.9\n",
            "            creating build\\src.win-amd64-3.9\\numpy\n",
            "            creating build\\src.win-amd64-3.9\\numpy\\distutils\n",
            "            building library \"npymath\" sources\n",
            "            No module named 'numpy.distutils._msvccompiler' in numpy.distutils; trying from distutils\n",
            "            error: Microsoft Visual C++ 14.0 or greater is required. Get it with \"Microsoft C++ Build Tools\": https://visualstudio.microsoft.com/visual-cpp-build-tools/\n",
            "            [end of output]\n",
            "      \n",
            "        note: This error originates from a subprocess, and is likely not a problem with pip.\n",
            "      error: legacy-install-failure\n",
            "      \n",
            "      Ã— Encountered error while trying to install package.\n",
            "      â•°â”€> numpy\n",
            "      \n",
            "      note: This is an issue with the package mentioned above, not pip.\n",
            "      hint: See above for output from the failure.\n",
            "      WARNING: You are using pip version 22.0.4; however, version 22.1 is available.\n",
            "      You should consider upgrading via the 'C:\\Users\\ricar\\AppData\\Local\\Microsoft\\WindowsApps\\PythonSoftwareFoundation.Python.3.9_qbz5n2kfra8p0\\python.exe -m pip install --upgrade pip' command.\n",
            "      [end of output]\n",
            "  \n",
            "  note: This error originates from a subprocess, and is likely not a problem with pip.\n",
            "error: subprocess-exited-with-error\n",
            "\n",
            "× pip subprocess to install build dependencies did not run successfully.\n",
            "│ exit code: 1\n",
            "╰─> See above for output.\n",
            "\n",
            "note: This error originates from a subprocess, and is likely not a problem with pip.\n",
            "WARNING: You are using pip version 22.0.4; however, version 22.1 is available.\n",
            "You should consider upgrading via the 'C:\\Users\\ricar\\AppData\\Local\\Microsoft\\WindowsApps\\PythonSoftwareFoundation.Python.3.9_qbz5n2kfra8p0\\python.exe -m pip install --upgrade pip' command.\n"
          ]
        },
        {
          "name": "stdout",
          "output_type": "stream",
          "text": [
            "Requirement already satisfied: pandas-profiling in c:\\users\\ricar\\appdata\\local\\packages\\pythonsoftwarefoundation.python.3.9_qbz5n2kfra8p0\\localcache\\local-packages\\python39\\site-packages (3.2.0)\n",
            "Requirement already satisfied: PyYAML>=5.0.0 in c:\\users\\ricar\\appdata\\local\\packages\\pythonsoftwarefoundation.python.3.9_qbz5n2kfra8p0\\localcache\\local-packages\\python39\\site-packages (from pandas-profiling) (6.0)\n",
            "Requirement already satisfied: joblib~=1.1.0 in c:\\users\\ricar\\appdata\\local\\packages\\pythonsoftwarefoundation.python.3.9_qbz5n2kfra8p0\\localcache\\local-packages\\python39\\site-packages (from pandas-profiling) (1.1.0)\n",
            "Requirement already satisfied: multimethod>=1.4 in c:\\users\\ricar\\appdata\\local\\packages\\pythonsoftwarefoundation.python.3.9_qbz5n2kfra8p0\\localcache\\local-packages\\python39\\site-packages (from pandas-profiling) (1.8)\n",
            "Requirement already satisfied: tangled-up-in-unicode==0.2.0 in c:\\users\\ricar\\appdata\\local\\packages\\pythonsoftwarefoundation.python.3.9_qbz5n2kfra8p0\\localcache\\local-packages\\python39\\site-packages (from pandas-profiling) (0.2.0)\n",
            "Requirement already satisfied: seaborn>=0.10.1 in c:\\users\\ricar\\appdata\\local\\packages\\pythonsoftwarefoundation.python.3.9_qbz5n2kfra8p0\\localcache\\local-packages\\python39\\site-packages (from pandas-profiling) (0.11.2)\n",
            "Requirement already satisfied: markupsafe~=2.1.1 in c:\\users\\ricar\\appdata\\local\\packages\\pythonsoftwarefoundation.python.3.9_qbz5n2kfra8p0\\localcache\\local-packages\\python39\\site-packages (from pandas-profiling) (2.1.1)\n",
            "Requirement already satisfied: pandas!=1.0.0,!=1.0.1,!=1.0.2,!=1.1.0,>=0.25.3 in c:\\users\\ricar\\appdata\\local\\packages\\pythonsoftwarefoundation.python.3.9_qbz5n2kfra8p0\\localcache\\local-packages\\python39\\site-packages (from pandas-profiling) (1.4.2)\n",
            "Requirement already satisfied: missingno>=0.4.2 in c:\\users\\ricar\\appdata\\local\\packages\\pythonsoftwarefoundation.python.3.9_qbz5n2kfra8p0\\localcache\\local-packages\\python39\\site-packages (from pandas-profiling) (0.5.1)\n",
            "Requirement already satisfied: phik>=0.11.1 in c:\\users\\ricar\\appdata\\local\\packages\\pythonsoftwarefoundation.python.3.9_qbz5n2kfra8p0\\localcache\\local-packages\\python39\\site-packages (from pandas-profiling) (0.12.2)\n",
            "Requirement already satisfied: pydantic>=1.8.1 in c:\\users\\ricar\\appdata\\local\\packages\\pythonsoftwarefoundation.python.3.9_qbz5n2kfra8p0\\localcache\\local-packages\\python39\\site-packages (from pandas-profiling) (1.9.0)\n",
            "Requirement already satisfied: requests>=2.24.0 in c:\\users\\ricar\\appdata\\local\\packages\\pythonsoftwarefoundation.python.3.9_qbz5n2kfra8p0\\localcache\\local-packages\\python39\\site-packages (from pandas-profiling) (2.27.1)\n",
            "Requirement already satisfied: jinja2>=2.11.1 in c:\\users\\ricar\\appdata\\local\\packages\\pythonsoftwarefoundation.python.3.9_qbz5n2kfra8p0\\localcache\\local-packages\\python39\\site-packages (from pandas-profiling) (3.1.2)\n",
            "Requirement already satisfied: matplotlib>=3.2.0 in c:\\users\\ricar\\appdata\\local\\packages\\pythonsoftwarefoundation.python.3.9_qbz5n2kfra8p0\\localcache\\local-packages\\python39\\site-packages (from pandas-profiling) (3.5.2)\n",
            "Requirement already satisfied: visions[type_image_path]==0.7.4 in c:\\users\\ricar\\appdata\\local\\packages\\pythonsoftwarefoundation.python.3.9_qbz5n2kfra8p0\\localcache\\local-packages\\python39\\site-packages (from pandas-profiling) (0.7.4)\n",
            "Requirement already satisfied: tqdm>=4.48.2 in c:\\users\\ricar\\appdata\\local\\packages\\pythonsoftwarefoundation.python.3.9_qbz5n2kfra8p0\\localcache\\local-packages\\python39\\site-packages (from pandas-profiling) (4.63.1)\n",
            "Requirement already satisfied: numpy>=1.16.0 in c:\\users\\ricar\\appdata\\local\\packages\\pythonsoftwarefoundation.python.3.9_qbz5n2kfra8p0\\localcache\\local-packages\\python39\\site-packages (from pandas-profiling) (1.22.3)\n",
            "Requirement already satisfied: scipy>=1.4.1 in c:\\users\\ricar\\appdata\\local\\packages\\pythonsoftwarefoundation.python.3.9_qbz5n2kfra8p0\\localcache\\local-packages\\python39\\site-packages (from pandas-profiling) (1.8.0)\n",
            "Requirement already satisfied: htmlmin>=0.1.12 in c:\\users\\ricar\\appdata\\local\\packages\\pythonsoftwarefoundation.python.3.9_qbz5n2kfra8p0\\localcache\\local-packages\\python39\\site-packages (from pandas-profiling) (0.1.12)\n",
            "Requirement already satisfied: attrs>=19.3.0 in c:\\users\\ricar\\appdata\\local\\packages\\pythonsoftwarefoundation.python.3.9_qbz5n2kfra8p0\\localcache\\local-packages\\python39\\site-packages (from visions[type_image_path]==0.7.4->pandas-profiling) (21.4.0)\n",
            "Requirement already satisfied: networkx>=2.4 in c:\\users\\ricar\\appdata\\local\\packages\\pythonsoftwarefoundation.python.3.9_qbz5n2kfra8p0\\localcache\\local-packages\\python39\\site-packages (from visions[type_image_path]==0.7.4->pandas-profiling) (2.8)\n",
            "Requirement already satisfied: Pillow in c:\\users\\ricar\\appdata\\local\\packages\\pythonsoftwarefoundation.python.3.9_qbz5n2kfra8p0\\localcache\\local-packages\\python39\\site-packages (from visions[type_image_path]==0.7.4->pandas-profiling) (9.1.0)\n",
            "Requirement already satisfied: imagehash in c:\\users\\ricar\\appdata\\local\\packages\\pythonsoftwarefoundation.python.3.9_qbz5n2kfra8p0\\localcache\\local-packages\\python39\\site-packages (from visions[type_image_path]==0.7.4->pandas-profiling) (4.2.1)\n",
            "Requirement already satisfied: kiwisolver>=1.0.1 in c:\\users\\ricar\\appdata\\local\\packages\\pythonsoftwarefoundation.python.3.9_qbz5n2kfra8p0\\localcache\\local-packages\\python39\\site-packages (from matplotlib>=3.2.0->pandas-profiling) (1.4.2)\n",
            "Requirement already satisfied: fonttools>=4.22.0 in c:\\users\\ricar\\appdata\\local\\packages\\pythonsoftwarefoundation.python.3.9_qbz5n2kfra8p0\\localcache\\local-packages\\python39\\site-packages (from matplotlib>=3.2.0->pandas-profiling) (4.33.3)\n",
            "Requirement already satisfied: python-dateutil>=2.7 in c:\\users\\ricar\\appdata\\local\\packages\\pythonsoftwarefoundation.python.3.9_qbz5n2kfra8p0\\localcache\\local-packages\\python39\\site-packages (from matplotlib>=3.2.0->pandas-profiling) (2.8.2)\n",
            "Requirement already satisfied: packaging>=20.0 in c:\\users\\ricar\\appdata\\local\\packages\\pythonsoftwarefoundation.python.3.9_qbz5n2kfra8p0\\localcache\\local-packages\\python39\\site-packages (from matplotlib>=3.2.0->pandas-profiling) (21.3)\n",
            "Requirement already satisfied: pyparsing>=2.2.1 in c:\\users\\ricar\\appdata\\local\\packages\\pythonsoftwarefoundation.python.3.9_qbz5n2kfra8p0\\localcache\\local-packages\\python39\\site-packages (from matplotlib>=3.2.0->pandas-profiling) (3.0.9)\n",
            "Requirement already satisfied: cycler>=0.10 in c:\\users\\ricar\\appdata\\local\\packages\\pythonsoftwarefoundation.python.3.9_qbz5n2kfra8p0\\localcache\\local-packages\\python39\\site-packages (from matplotlib>=3.2.0->pandas-profiling) (0.11.0)\n",
            "Requirement already satisfied: pytz>=2020.1 in c:\\users\\ricar\\appdata\\local\\packages\\pythonsoftwarefoundation.python.3.9_qbz5n2kfra8p0\\localcache\\local-packages\\python39\\site-packages (from pandas!=1.0.0,!=1.0.1,!=1.0.2,!=1.1.0,>=0.25.3->pandas-profiling) (2022.1)\n",
            "Requirement already satisfied: typing-extensions>=3.7.4.3 in c:\\users\\ricar\\appdata\\local\\packages\\pythonsoftwarefoundation.python.3.9_qbz5n2kfra8p0\\localcache\\local-packages\\python39\\site-packages (from pydantic>=1.8.1->pandas-profiling) (4.2.0)\n",
            "Requirement already satisfied: charset-normalizer~=2.0.0 in c:\\users\\ricar\\appdata\\local\\packages\\pythonsoftwarefoundation.python.3.9_qbz5n2kfra8p0\\localcache\\local-packages\\python39\\site-packages (from requests>=2.24.0->pandas-profiling) (2.0.12)\n",
            "Requirement already satisfied: urllib3<1.27,>=1.21.1 in c:\\users\\ricar\\appdata\\local\\packages\\pythonsoftwarefoundation.python.3.9_qbz5n2kfra8p0\\localcache\\local-packages\\python39\\site-packages (from requests>=2.24.0->pandas-profiling) (1.26.9)\n",
            "Requirement already satisfied: certifi>=2017.4.17 in c:\\users\\ricar\\appdata\\local\\packages\\pythonsoftwarefoundation.python.3.9_qbz5n2kfra8p0\\localcache\\local-packages\\python39\\site-packages (from requests>=2.24.0->pandas-profiling) (2021.10.8)\n",
            "Requirement already satisfied: idna<4,>=2.5 in c:\\users\\ricar\\appdata\\local\\packages\\pythonsoftwarefoundation.python.3.9_qbz5n2kfra8p0\\localcache\\local-packages\\python39\\site-packages (from requests>=2.24.0->pandas-profiling) (3.3)\n",
            "Requirement already satisfied: colorama in c:\\users\\ricar\\appdata\\local\\packages\\pythonsoftwarefoundation.python.3.9_qbz5n2kfra8p0\\localcache\\local-packages\\python39\\site-packages (from tqdm>=4.48.2->pandas-profiling) (0.4.4)\n",
            "Requirement already satisfied: six>=1.5 in c:\\users\\ricar\\appdata\\local\\packages\\pythonsoftwarefoundation.python.3.9_qbz5n2kfra8p0\\localcache\\local-packages\\python39\\site-packages (from python-dateutil>=2.7->matplotlib>=3.2.0->pandas-profiling) (1.16.0)\n",
            "Requirement already satisfied: PyWavelets in c:\\users\\ricar\\appdata\\local\\packages\\pythonsoftwarefoundation.python.3.9_qbz5n2kfra8p0\\localcache\\local-packages\\python39\\site-packages (from imagehash->visions[type_image_path]==0.7.4->pandas-profiling) (1.3.0)\n",
            "Note: you may need to restart the kernel to use updated packages.\n"
          ]
        },
        {
          "name": "stderr",
          "output_type": "stream",
          "text": [
            "WARNING: You are using pip version 22.0.4; however, version 22.1 is available.\n",
            "You should consider upgrading via the 'C:\\Users\\ricar\\AppData\\Local\\Microsoft\\WindowsApps\\PythonSoftwareFoundation.Python.3.9_qbz5n2kfra8p0\\python.exe -m pip install --upgrade pip' command.\n"
          ]
        }
      ],
      "source": [
        "%pip install pycaret\n",
        "%pip install pandas-profiling"
      ]
    },
    {
      "cell_type": "markdown",
      "metadata": {
        "id": "GQtDyoYnB5Z_"
      },
      "source": [
        "###**Habilitando para Google Colab**"
      ]
    },
    {
      "cell_type": "code",
      "execution_count": 5,
      "metadata": {
        "id": "Xqgpb6__B_RY"
      },
      "outputs": [
        {
          "ename": "ModuleNotFoundError",
          "evalue": "No module named 'pycaret'",
          "output_type": "error",
          "traceback": [
            "\u001b[1;31m---------------------------------------------------------------------------\u001b[0m",
            "\u001b[1;31mModuleNotFoundError\u001b[0m                       Traceback (most recent call last)",
            "\u001b[1;32md:\\PIA\\modulo 2\\final\\Notebook_classification_model.ipynb Cell 9'\u001b[0m in \u001b[0;36m<cell line: 1>\u001b[1;34m()\u001b[0m\n\u001b[1;32m----> <a href='vscode-notebook-cell:/d%3A/PIA/modulo%202/final/Notebook_classification_model.ipynb#ch0000008?line=0'>1</a>\u001b[0m \u001b[39mfrom\u001b[39;00m \u001b[39mpycaret\u001b[39;00m\u001b[39m.\u001b[39;00m\u001b[39mutils\u001b[39;00m \u001b[39mimport\u001b[39;00m enable_colab\n\u001b[0;32m      <a href='vscode-notebook-cell:/d%3A/PIA/modulo%202/final/Notebook_classification_model.ipynb#ch0000008?line=1'>2</a>\u001b[0m enable_colab()\n",
            "\u001b[1;31mModuleNotFoundError\u001b[0m: No module named 'pycaret'"
          ]
        }
      ],
      "source": [
        "from pycaret.utils import enable_colab\n",
        "enable_colab()"
      ]
    },
    {
      "cell_type": "markdown",
      "metadata": {
        "id": "zj64cpBhsW4Q"
      },
      "source": [
        "## **Conjunto de Datos**"
      ]
    },
    {
      "cell_type": "code",
      "execution_count": null,
      "metadata": {
        "id": "YEl4L8F6BR6w"
      },
      "outputs": [],
      "source": [
        "# Creación del dataframe (en todas las celdas de código que se requieran)"
      ]
    },
    {
      "cell_type": "markdown",
      "metadata": {
        "id": "f-1_5vPRrcKq"
      },
      "source": [
        "### **Análisis de datos**"
      ]
    },
    {
      "cell_type": "code",
      "execution_count": null,
      "metadata": {
        "id": "CRdT1kd7rJ8o"
      },
      "outputs": [],
      "source": [
        "import pandas as pd"
      ]
    },
    {
      "cell_type": "markdown",
      "metadata": {
        "id": "s1-cTwlkB05L"
      },
      "source": [
        "##**Configuración de PyCaret**"
      ]
    },
    {
      "cell_type": "code",
      "execution_count": null,
      "metadata": {
        "id": "8U2k45nMCpvF"
      },
      "outputs": [],
      "source": [
        "# Configurando PyCaret para trabajar (en todas las celdas de código que se requieran)"
      ]
    },
    {
      "cell_type": "markdown",
      "metadata": {
        "id": "nwn9H4JoC1tc"
      },
      "source": [
        "##**Creación del modelo**"
      ]
    },
    {
      "cell_type": "code",
      "execution_count": null,
      "metadata": {
        "id": "PXjO_3BvC9Ap"
      },
      "outputs": [],
      "source": []
    },
    {
      "cell_type": "markdown",
      "metadata": {
        "id": "mW3qaPCBDMLv"
      },
      "source": [
        "##**Optimización del modelo (no obligatoria)...**"
      ]
    },
    {
      "cell_type": "code",
      "execution_count": null,
      "metadata": {
        "id": "0jUEp3tRDLtZ"
      },
      "outputs": [],
      "source": []
    },
    {
      "cell_type": "markdown",
      "metadata": {
        "id": "Gxmfvy7YDHWp"
      },
      "source": [
        "##**Evaluación del modelo**"
      ]
    },
    {
      "cell_type": "code",
      "execution_count": null,
      "metadata": {
        "id": "S9FSdNm4DWGe"
      },
      "outputs": [],
      "source": []
    },
    {
      "cell_type": "markdown",
      "metadata": {
        "id": "WGyNp6JNDjBW"
      },
      "source": [
        "##**Predicción**"
      ]
    },
    {
      "cell_type": "code",
      "execution_count": null,
      "metadata": {
        "id": "ob5XhbEIDmVr"
      },
      "outputs": [],
      "source": []
    },
    {
      "cell_type": "markdown",
      "metadata": {
        "id": "PXT0CRR2Dm4x"
      },
      "source": [
        "#**Conclusiones**"
      ]
    },
    {
      "cell_type": "markdown",
      "metadata": {
        "id": "cUHmZR2oDrWp"
      },
      "source": []
    }
  ],
  "metadata": {
    "colab": {
      "collapsed_sections": [],
      "name": "plantilla-clasificacion.ipynb",
      "provenance": [],
      "toc_visible": true
    },
    "interpreter": {
      "hash": "26da86705137f909ff2c13f515a05823cf2bbca0cdc334cac9431992890b41f1"
    },
    "kernelspec": {
      "display_name": "Python 3.9.12 64-bit (windows store)",
      "language": "python",
      "name": "python3"
    },
    "language_info": {
      "codemirror_mode": {
        "name": "ipython",
        "version": 3
      },
      "file_extension": ".py",
      "mimetype": "text/x-python",
      "name": "python",
      "nbconvert_exporter": "python",
      "pygments_lexer": "ipython3",
      "version": "3.9.12"
    }
  },
  "nbformat": 4,
  "nbformat_minor": 0
}
